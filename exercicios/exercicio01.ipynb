{
 "cells": [
  {
   "cell_type": "markdown",
   "metadata": {
    "collapsed": true,
    "pycharm": {
     "name": "#%% md\n"
    }
   },
   "source": [
    "## Exercícios - Aula 01"
   ]
  },
  {
   "cell_type": "markdown",
   "metadata": {
    "collapsed": false,
    "pycharm": {
     "name": "#%% md\n"
    }
   },
   "source": [
    "1) Escolha um número entre 1 e 10 e armazene ele numa variável chamada *segredo*. Escolha outro número entre 1 e 10 novamente e salve ele numa variável chamada *chute*. Depois, escreva testes condicionais usando *if*, *else* e *elif* para exibir a mensagem \"muito menor\" se *chute* é menor do que *segredo*, \"muito maior\" se *chute* é maior do que *segredo* e \"na mosca\" se *chute* for igual à *segredo*.\n",
    "\n",
    "2) Escreva uma cadeia de instrucões *if*-*elif*-*else* que determine o estágio da vida de uma pessoa. Defina um valor para a variável *idade* e então:\n",
    "- Se a pessoa tiver menos de 2 anos de idade, mostre uma mensagem dizendo que ela ainda é um bebê.\n",
    "- Se a pessoa tiver pelo menos 2 anos, mas menos de 4, mostre uma mensagem dizendo que ela é uma crianca.\n",
    "- Se a pessoa tiver pelo menos 4 anos, mas menos de 13, mostre uma mensagem dizendo que ela é um(a) goroto(a).\n",
    "- Se a pessoa tiver pelo menos 13 anos, mas menos de 20, mostre uma mensagem dizendo que ela é um(a) adolescente.\n",
    "- Se a pessoa tiver pelo menos 20 anos, mas menos de 65, mostre uma mensagem dizendo que ela é um(a) adulto(a).\n",
    "- Se a pessoa tiver 65 anos ou mais, mostre uma mensagem dizendo que ela é uma pessoa idosa.\n",
    "\n",
    "3) Crie uma lista com cinco ou mais nomes de usuários, incluindo o nome \"admin\". Suponha que você esteja escrevendo um código que exibirá uma saudacão a cada usuário depois que eles fizerem login em um site. Percorra a lista com um laco e mostre uma saudacão para cada usuário:\n",
    "- Se o nome do usuário for \"admin\", mostre uma saudacão especial, por exemplo, \"Olá admin, gostaria de ver o relatório de status?\"\n",
    "- Caso contrário, mostre a saudacão genérica, como \"Olá José, obrigado por fazer login novamente\".\n",
    "\n",
    "4) A partir do exercício anterior, modifique o código criado para acrescentar um teste if que verifica se a lista de usuarios está vazia.\n",
    "- Se a lista de usuários estiver vazia, mostre a mensagem \"Precisamos encontrar alguns usuários!\". Remova todos os nomes de usuários da lista e certifique-se de que essa mensagem aparecerá.\n",
    "\n",
    "5) Crie um programa que simule o modo como os sites garantem que todos tenham um nome de usuário único.\n",
    "- Crie uma lista chamada *current_users* com cinco ou mais nomes de usuários\n",
    "- Crie uma list chamada *new_users* com cinco nomes de usuários. Garanta que dois dos novos usuários também estejam na lista *current_users*\n",
    "- Percorra a lista *new_users* com um laco para ver se cada novo nome de usuário já foi usado. Em caso afirmativo, mostre uma mensagem afirmando que a pessoa deverá fornecer um novo nome. Se um usuário não foi usado, apresente uma mensagem dizendo que o nome do usuário está disponível.\n",
    "- Certifique-se de que sua comparacão não levará em conta as diferencas entre letras maiúsculas e minúsculas. Se \"Pedro\" foi usado, \"PEDRO\" não deverá ser aceito.\n",
    "\n",
    "6) Números ordinais indicam sua posicão em uma lista, por exemplo, 1st, 2nd, em inglês. A maioria dos números ordinais nessa língua termina com th, exceto, 1, 2 e 3.\n",
    "- Armazene os números de 1 a 9 em uma lista.\n",
    "- Pecorra essa lista com um laco.\n",
    "- Use uma cadeia de instrucões *if*-*elif*-*else* que exiba a terminacão apropriada para cada número ordinal. Sua saída deverá conter \"1st 2nd 3rd 4th 5th 6th 7th 8th 9th\" e cada resultado deve estar em uma linha separada\n"
   ]
  },
  {
   "cell_type": "code",
   "execution_count": 3,
   "metadata": {},
   "outputs": [
    {
     "name": "stdout",
     "output_type": "stream",
     "text": [
      "na mosca\n"
     ]
    }
   ],
   "source": [
    "# Exercício 1\n",
    "\n",
    "segredo = 3\n",
    "chute = 3\n",
    "\n",
    "if chute < segredo:\n",
    "    print(\"muito menor\")\n",
    "elif chute > segredo:\n",
    "    print(\"muito maior\")\n",
    "else:\n",
    "    print(\"na mosca\")\n",
    "\n"
   ]
  },
  {
   "cell_type": "code",
   "execution_count": 8,
   "metadata": {},
   "outputs": [
    {
     "name": "stdout",
     "output_type": "stream",
     "text": [
      "adulto\n"
     ]
    }
   ],
   "source": [
    "# exercício 2\n",
    "\n",
    "\"\"\"\"\" 2) Escreva uma cadeia de instrucões *if*-*elif*-*else* que determine o estágio da vida de uma pessoa. Defina um valor para a variável *idade* e então:\n",
    "- Se a pessoa tiver menos de 2 anos de idade, mostre uma mensagem dizendo que ela ainda é um bebê.\n",
    "- Se a pessoa tiver pelo menos 2 anos, mas menos de 4, mostre uma mensagem dizendo que ela é uma crianca.\n",
    "- Se a pessoa tiver pelo menos 4 anos, mas menos de 13, mostre uma mensagem dizendo que ela é um(a) goroto(a).\n",
    "- Se a pessoa tiver pelo menos 13 anos, mas menos de 20, mostre uma mensagem dizendo que ela é um(a) adolescente.\n",
    "- Se a pessoa tiver pelo menos 20 anos, mas menos de 65, mostre uma mensagem dizendo que ela é um(a) adulto(a).\n",
    "- Se a pessoa tiver 65 anos ou mais, mostre uma mensagem dizendo que ela é uma pessoa idosa. \"\"\"\"\"\n",
    "\n",
    "idade = 34\n",
    "\n",
    "if idade < 2:\n",
    "    print(\"ainda é um bebe\")\n",
    "elif idade < 4:\n",
    "    print(\"é uma criança\")\n",
    "elif idade < 13:\n",
    "    print(\"é um garoto\")\n",
    "elif idade < 20:\n",
    "    print(\"é um adolescente\")\n",
    "elif idade < 65:\n",
    "    print(\"adulto\")\n",
    "else:\n",
    "    print(\"idosa\")\n"
   ]
  },
  {
   "cell_type": "code",
   "execution_count": 52,
   "metadata": {},
   "outputs": [
    {
     "name": "stdout",
     "output_type": "stream",
     "text": [
      "Olá admin, gostaria de ver o relatório de status?\n",
      "Olá Alan, obrigado por fazer login novamente\n",
      "Olá Lais, obrigado por fazer login novamente\n",
      "Olá Stefano, obrigado por fazer login novamente\n",
      "Olá Vitor, obrigado por fazer login novamente\n"
     ]
    }
   ],
   "source": [
    "\"\"\"\n",
    "3) Crie uma lista com cinco ou mais nomes de usuários, incluindo o nome \"admin\". \n",
    "Suponha que você esteja escrevendo um código que exibirá uma saudacão a cada usuário depois que eles \n",
    "fizerem login em um site. Percorra a lista com um laco e mostre uma saudacão para cada usuário:\n",
    "- Se o nome do usuário for \"admin\", mostre uma saudacão especial, por exemplo, \n",
    "\"Olá admin, gostaria de ver o relatório de status?\"\n",
    "- Caso contrário, mostre a saudacão genérica, como \"Olá José, obrigado por fazer login novamente\".\n",
    "\"\"\"\n",
    "\n",
    "lista_nomes = ['admin', 'alan', 'lais', 'stefano', 'vitor']\n",
    "\n",
    "for nomes in lista_nomes:\n",
    "    if nomes == 'admin':\n",
    "        print(\"Olá admin, gostaria de ver o relatório de status?\")\n",
    "    else:\n",
    "        print('Olá ' + nomes.title() + ', obrigado por fazer login novamente')"
   ]
  },
  {
   "cell_type": "code",
   "execution_count": 60,
   "metadata": {},
   "outputs": [
    {
     "name": "stdout",
     "output_type": "stream",
     "text": [
      "Precisamos encontrar alguns usuários!precisamos de novos nomes\n"
     ]
    }
   ],
   "source": [
    "# Exercício 4\n",
    "\n",
    "\"\"\"\n",
    "4) A partir do exercício anterior, modifique o código criado para acrescentar um teste if que \n",
    "verifica se a lista de usuarios está vazia.\n",
    "- Se a lista de usuários estiver vazia, mostre a mensagem \"Precisamos encontrar alguns usuários!\". \n",
    "Remova todos os nomes de usuários da lista e certifique-se de que essa mensagem aparecerá.\n",
    "\"\"\"\n",
    "\n",
    "lista_nomes = ['admin', 'alan', 'lais', 'stefano', 'vitor']\n",
    "\n",
    "x = 0\n",
    "tamanho_inicial = len(lista_nomes)\n",
    "\n",
    "while len(lista_nomes) > 0:\n",
    "    x = 0\n",
    "    lista_nomes.pop(x)\n",
    "    x += 1\n",
    "\n",
    "\n",
    "if not lista_nomes:\n",
    "    print('Precisamos encontrar alguns usuários!precisamos de novos nomes')\n"
   ]
  },
  {
   "cell_type": "code",
   "execution_count": 70,
   "metadata": {},
   "outputs": [
    {
     "name": "stdout",
     "output_type": "stream",
     "text": [
      "Nome de usuário luiz já está sendo usado, favor fornecer outro!\n",
      "Nome de usuário alan já está sendo usado, favor fornecer outro!\n",
      "Nome de usuário otavio disponível.\n",
      "Nome de usuário adalberto disponível.\n",
      "Nome de usuário nino disponível.\n"
     ]
    }
   ],
   "source": [
    "# Exercício 5\n",
    "\n",
    "\"\"\"\n",
    "5) Crie um programa que simule o modo como os sites garantem que todos tenham um nome de usuário único.\n",
    "- Crie uma lista chamada *current_users* com cinco ou mais nomes de usuários\n",
    "- Crie uma list chamada *new_users* com cinco nomes de usuários. Garanta que dois dos novos usuários \n",
    "também estejam na lista *current_users*\n",
    "- Percorra a lista *new_users* com um laco para ver se cada novo nome de usuário já foi usado. \n",
    "Em caso afirmativo, mostre uma mensagem afirmando que a pessoa deverá fornecer um novo nome. \n",
    "Se um usuário não foi usado, apresente uma mensagem dizendo que o nome do usuário está disponível.\n",
    "- Certifique-se de que sua comparacão não levará em conta as diferencas entre letras maiúsculas e minúsculas. \n",
    "Se \"Pedro\" foi usado, \"PEDRO\" não deverá ser aceito.\n",
    "\"\"\"\n",
    "\n",
    "current_users = ['luiz', 'alan', 'lais', 'stefano', 'vitor']\n",
    "new_users = ['luiz', 'alan', 'otavio', 'adalberto', 'nino']\n",
    "\n",
    "for nomes_new in new_users:\n",
    "    x = 0\n",
    "    for nomes_current in current_users:\n",
    "        if nomes_new == nomes_current:\n",
    "            x += 1\n",
    "        else:\n",
    "            pass\n",
    "    if x > 0:\n",
    "        print('Nome de usuário '+ nomes_new + ' já está sendo usado, favor fornecer outro!')\n",
    "    else:\n",
    "        print('Nome de usuário ' + nomes_new + ' disponível.')    \n",
    "\n"
   ]
  },
  {
   "cell_type": "code",
   "execution_count": 83,
   "metadata": {},
   "outputs": [
    {
     "name": "stdout",
     "output_type": "stream",
     "text": [
      "1 st\n",
      "2 nd\n",
      "3 rd\n",
      "4 th\n",
      "5 th\n",
      "6 th\n",
      "7 th\n",
      "8 th\n",
      "9 th\n"
     ]
    }
   ],
   "source": [
    "# Exercício 6\n",
    "\n",
    "\"\"\"\n",
    "\n",
    "6) Números ordinais indicam sua posicão em uma lista, por exemplo, 1st, 2nd, em inglês. \n",
    "A maioria dos números ordinais nessa língua termina com th, exceto, 1, 2 e 3.\n",
    "- Armazene os números de 1 a 9 em uma lista.\n",
    "- Pecorra essa lista com um laco.\n",
    "- Use uma cadeia de instrucões *if*-*elif*-*else* que exiba a terminacão apropriada para cada número ordinal. \n",
    "Sua saída deverá conter \"1st 2nd 3rd 4th 5th 6th 7th 8th 9th\" e cada resultado deve estar em uma linha separada\n",
    "\n",
    "\"\"\"\n",
    "\n",
    "lista_num = [1,2,3,4,5,6,7,8,9]\n",
    "\n",
    "for num in lista_num:\n",
    "    num_index = num - 1\n",
    "    numero = int(lista_num[num_index])\n",
    "    if numero == 1:\n",
    "        print(numero, 'st')\n",
    "    elif numero == 2:\n",
    "        print(numero, 'nd')\n",
    "    elif numero == 3:\n",
    "        print(numero, 'rd')\n",
    "    else:\n",
    "        print(numero, 'th')\n",
    "    "
   ]
  }
 ],
 "metadata": {
  "kernelspec": {
   "display_name": "Python 3",
   "language": "python",
   "name": "python3"
  },
  "language_info": {
   "codemirror_mode": {
    "name": "ipython",
    "version": 3
   },
   "file_extension": ".py",
   "mimetype": "text/x-python",
   "name": "python",
   "nbconvert_exporter": "python",
   "pygments_lexer": "ipython3",
   "version": "3.10.4"
  },
  "vscode": {
   "interpreter": {
    "hash": "3ad933181bd8a04b432d3370b9dc3b0662ad032c4dfaa4e4f1596c548f763858"
   }
  }
 },
 "nbformat": 4,
 "nbformat_minor": 0
}
